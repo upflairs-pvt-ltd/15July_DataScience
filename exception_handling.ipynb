{
 "cells": [
  {
   "cell_type": "code",
   "execution_count": 7,
   "id": "f58c7cfd-cc14-4d65-8c27-20970c025546",
   "metadata": {},
   "outputs": [
    {
     "name": "stdout",
     "output_type": "stream",
     "text": [
      "Plz enter your name :  Radhey\n"
     ]
    },
    {
     "name": "stdout",
     "output_type": "stream",
     "text": [
      "Hello :  Radhey\n"
     ]
    },
    {
     "name": "stdout",
     "output_type": "stream",
     "text": [
      "Plz enter your age :  twenty\n"
     ]
    },
    {
     "name": "stdout",
     "output_type": "stream",
     "text": [
      "error is occured, plz dont stop program execution\n",
      "this is important line please execute it 1\n",
      "this is important line please execute it 2\n",
      "this is important line please execute it 3\n",
      "this is important line please execute it 4\n",
      "this is important line please execute it 5\n"
     ]
    }
   ],
   "source": [
    "try:\n",
    "    name = input('Plz enter your name : ')\n",
    "    print(\"Hello : \",name)\n",
    "    age = int(input('Plz enter your age : '))\n",
    "    print(f\"Heyy thi is {name} and i am {age} year old!\") # fstring\n",
    "\n",
    "except: \n",
    "    print('error is occured, plz dont stop program execution')\n",
    "\n",
    "else: \n",
    "    print(\"error is not occured\")\n",
    "\n",
    "finally: \n",
    "    print(\"hee i will always execute!\") \n",
    "\n",
    "print(\"this is important line please execute it 1\")\n",
    "print(\"this is important line please execute it 2\")\n",
    "print(\"this is important line please execute it 3\")\n",
    "print(\"this is important line please execute it 4\")\n",
    "print(\"this is important line please execute it 5\")\n"
   ]
  },
  {
   "cell_type": "code",
   "execution_count": 11,
   "id": "4a7b5600-5f56-4bb0-aa14-0d6384e1f01d",
   "metadata": {},
   "outputs": [
    {
     "ename": "IndexError",
     "evalue": "list index out of range",
     "output_type": "error",
     "traceback": [
      "\u001b[1;31m---------------------------------------------------------------------------\u001b[0m",
      "\u001b[1;31mIndexError\u001b[0m                                Traceback (most recent call last)",
      "Cell \u001b[1;32mIn[11], line 2\u001b[0m\n\u001b[0;32m      1\u001b[0m ls \u001b[38;5;241m=\u001b[39m [\u001b[38;5;241m25\u001b[39m,\u001b[38;5;241m41\u001b[39m,\u001b[38;5;241m63\u001b[39m,\u001b[38;5;241m96\u001b[39m,\u001b[38;5;241m85\u001b[39m]\n\u001b[1;32m----> 2\u001b[0m \u001b[43mls\u001b[49m\u001b[43m[\u001b[49m\u001b[38;5;241;43m5\u001b[39;49m\u001b[43m]\u001b[49m\n",
      "\u001b[1;31mIndexError\u001b[0m: list index out of range"
     ]
    }
   ],
   "source": [
    "ls = [25,41,63,96,85]\n",
    "ls[5]"
   ]
  },
  {
   "cell_type": "code",
   "execution_count": null,
   "id": "89a6182f-8394-4d01-be98-dfded919a9e2",
   "metadata": {},
   "outputs": [],
   "source": []
  },
  {
   "cell_type": "code",
   "execution_count": 6,
   "id": "21cd4fa9-32cb-43ac-9ab9-a1f282035303",
   "metadata": {},
   "outputs": [
    {
     "ename": "ZeroDivisionError",
     "evalue": "division by zero",
     "output_type": "error",
     "traceback": [
      "\u001b[1;31m---------------------------------------------------------------------------\u001b[0m",
      "\u001b[1;31mZeroDivisionError\u001b[0m                         Traceback (most recent call last)",
      "Cell \u001b[1;32mIn[6], line 5\u001b[0m\n\u001b[0;32m      2\u001b[0m     num1 \u001b[38;5;241m=\u001b[39m \u001b[38;5;28mint\u001b[39m(\u001b[38;5;28minput\u001b[39m(\u001b[38;5;124m'\u001b[39m\u001b[38;5;124mplz enter your first number : \u001b[39m\u001b[38;5;124m'\u001b[39m))\n\u001b[0;32m      3\u001b[0m     num2 \u001b[38;5;241m=\u001b[39m \u001b[38;5;28mint\u001b[39m(\u001b[38;5;28minput\u001b[39m(\u001b[38;5;124m'\u001b[39m\u001b[38;5;124mplz enter your second number : \u001b[39m\u001b[38;5;124m'\u001b[39m))\n\u001b[1;32m----> 5\u001b[0m     output \u001b[38;5;241m=\u001b[39m \u001b[43mnum1\u001b[49m\u001b[43m \u001b[49m\u001b[38;5;241;43m/\u001b[39;49m\u001b[43m \u001b[49m\u001b[43mnum2\u001b[49m \n\u001b[0;32m      6\u001b[0m     \u001b[38;5;28mprint\u001b[39m(\u001b[38;5;124m'\u001b[39m\u001b[38;5;124mThis is your ouptut : \u001b[39m\u001b[38;5;124m'\u001b[39m,output)\n\u001b[0;32m      7\u001b[0m \u001b[38;5;28;01mexcept\u001b[39;00m \u001b[38;5;167;01mValueError\u001b[39;00m:\n",
      "\u001b[1;31mZeroDivisionError\u001b[0m: division by zero"
     ]
    }
   ],
   "source": [
    "try:\n",
    "    num1 = int(input('plz enter your first number : '))\n",
    "    num2 = int(input('plz enter your second number : '))\n",
    "\n",
    "    output = num1 / num2 \n",
    "    print('This is your ouptut : ',output)\n",
    "except ValueError:\n",
    "    print('plz enter valid input!')\n",
    "\n",
    "except ZeroDivisionError:\n",
    "    print(\"Plz dont assign 0 to num2\")\n",
    "\n",
    "\n",
    "\n",
    "# ValueError \n",
    "# ZeroDivisionError "
   ]
  },
  {
   "cell_type": "code",
   "execution_count": null,
   "id": "8a6c6f4c-7e14-44dc-a44f-b319b6b719ec",
   "metadata": {},
   "outputs": [],
   "source": []
  },
  {
   "cell_type": "code",
   "execution_count": null,
   "id": "7735da29-9a22-42cb-8306-c1a554531d87",
   "metadata": {},
   "outputs": [],
   "source": []
  },
  {
   "cell_type": "code",
   "execution_count": null,
   "id": "3a1bf126-5651-4cc6-9cbf-0aa28d818d89",
   "metadata": {},
   "outputs": [],
   "source": []
  },
  {
   "cell_type": "code",
   "execution_count": null,
   "id": "28c9fac7-5258-4620-a610-ff475f849240",
   "metadata": {},
   "outputs": [],
   "source": []
  },
  {
   "cell_type": "code",
   "execution_count": null,
   "id": "5673ba06-cdff-47d1-bb91-6808469d3ca7",
   "metadata": {},
   "outputs": [],
   "source": []
  },
  {
   "cell_type": "code",
   "execution_count": null,
   "id": "3f2d200c-6055-4fff-9d14-7901f78fdd04",
   "metadata": {},
   "outputs": [],
   "source": []
  },
  {
   "cell_type": "code",
   "execution_count": null,
   "id": "d991886b-417a-4160-a508-e226399197e8",
   "metadata": {},
   "outputs": [],
   "source": []
  }
 ],
 "metadata": {
  "kernelspec": {
   "display_name": "Python 3 (ipykernel)",
   "language": "python",
   "name": "python3"
  },
  "language_info": {
   "codemirror_mode": {
    "name": "ipython",
    "version": 3
   },
   "file_extension": ".py",
   "mimetype": "text/x-python",
   "name": "python",
   "nbconvert_exporter": "python",
   "pygments_lexer": "ipython3",
   "version": "3.11.5"
  }
 },
 "nbformat": 4,
 "nbformat_minor": 5
}
