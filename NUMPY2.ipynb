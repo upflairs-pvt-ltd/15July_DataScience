{
  "nbformat": 4,
  "nbformat_minor": 0,
  "metadata": {
    "colab": {
      "provenance": []
    },
    "kernelspec": {
      "name": "python3",
      "display_name": "Python 3"
    },
    "language_info": {
      "name": "python"
    }
  },
  "cells": [
    {
      "cell_type": "code",
      "execution_count": null,
      "metadata": {
        "id": "_pj8S8Oc0kVo"
      },
      "outputs": [],
      "source": [
        "import numpy as np"
      ]
    },
    {
      "cell_type": "code",
      "source": [
        "arr = np.random.randint(1,450,500)\n",
        "arr\n",
        "# filter all those item that are less than 100"
      ],
      "metadata": {
        "colab": {
          "base_uri": "https://localhost:8080/"
        },
        "id": "NkLUyMhg0qUR",
        "outputId": "065f1f90-fb61-4f84-facf-51d139f1868d"
      },
      "execution_count": 55,
      "outputs": [
        {
          "output_type": "execute_result",
          "data": {
            "text/plain": [
              "array([120, 432, 238, 439, 289, 254, 392, 189, 302, 307, 237,  54,   8,\n",
              "       432,  65, 228, 218, 287, 118,  86, 407, 298, 406, 165, 218, 217,\n",
              "       286, 318, 112, 136, 397, 397, 244,  45, 202,  19, 110, 270,  18,\n",
              "       186, 249,  60, 355, 315,  28, 327, 347,   2, 226, 371, 215, 434,\n",
              "        23,  87, 201,  69,  56,  13, 133, 317, 321, 392, 129, 265, 346,\n",
              "       332, 125, 364, 310, 447,   7, 263, 203, 446, 172, 141, 343, 223,\n",
              "       272,  32,  14, 226, 100, 360, 245, 338, 243, 267, 265,  95, 272,\n",
              "       346, 318,  28, 431,  72, 395, 316, 229, 149,  40, 202, 439, 412,\n",
              "       441, 245,  81, 289,  10, 419,  16, 298, 288, 221, 354, 254, 255,\n",
              "       239, 150,  74, 375, 265, 145, 448, 156,  68, 188, 194, 367, 176,\n",
              "       345, 209, 241, 433, 393, 441, 186,  27, 155, 287, 261, 427, 154,\n",
              "       110, 354, 130, 133,  85, 142, 137, 154, 226, 181, 355, 288, 320,\n",
              "       224, 150, 178, 104, 393, 301,  66,  83, 260, 344, 186, 344, 211,\n",
              "       389, 286, 334, 283, 419, 150, 174,  72,  69, 187,  42, 318, 238,\n",
              "       189, 376, 403, 390, 210, 276, 363, 115,  43, 375, 321,  16,  60,\n",
              "        22, 317, 124, 305, 117, 417, 104, 114, 283, 275, 131, 107, 164,\n",
              "       235, 346, 267,  68, 169, 355, 258, 392, 260,  34, 123,  40, 193,\n",
              "        93,  72, 158, 362, 119, 174, 111, 410, 348, 303, 374, 132, 320,\n",
              "       129,  25, 189, 139,  36, 154, 415, 344, 444, 158, 309,  23, 264,\n",
              "       417, 272, 123, 355, 222, 116, 189, 447, 261, 112,  72, 345,  18,\n",
              "       268, 111, 118, 131,  69, 186, 108,   9, 345,  62, 383,  21,  73,\n",
              "       291, 135, 389, 274, 411,   8,  45, 430, 392, 212, 237, 134,  12,\n",
              "       146, 432,  73, 158,  68, 389, 266, 180, 355, 416, 441, 329,  90,\n",
              "         3, 239,  75,  54, 170, 104, 238, 177,  89, 374, 146, 124, 126,\n",
              "       111, 241, 118,  58, 415,  44, 106, 295,  16, 318, 350, 370, 153,\n",
              "       128,  87, 185, 188, 298,  14, 206, 101, 321, 251, 156, 326, 349,\n",
              "       106, 269, 266, 427, 316, 227, 139, 264, 449,  92, 153, 306, 331,\n",
              "       152, 273,   7, 261, 152, 381, 269, 231,  56, 123, 277, 354, 270,\n",
              "       317,  34, 384,   7,  26, 223, 323, 203, 414, 351, 148, 118,  66,\n",
              "       284, 123, 221,  97,  65, 109, 263, 347, 304, 125, 284,  41, 288,\n",
              "       381, 274,  65, 137,  60, 312, 230, 117, 284, 133, 280, 425,  19,\n",
              "       355, 141,  98,  83, 411, 378, 279, 220, 422, 109, 170, 133, 310,\n",
              "       124, 151, 202, 134, 162, 347, 235, 231,  49, 301, 150, 438, 308,\n",
              "        92,  55,  25, 412,  56, 147,  88, 433, 325,  85, 168,  67, 241,\n",
              "       132, 327, 289, 225, 353,  87, 448, 361, 105, 106, 417, 216, 210,\n",
              "       265,  86, 207,  87, 147, 388, 275, 217, 407, 195, 175,  25, 436,\n",
              "       385, 210, 329, 346,  48,  22,  65, 446, 312,  91, 449, 308, 418,\n",
              "       147, 218,  42, 322, 185,  25, 226, 148,  85,   1, 289, 347, 386,\n",
              "       177, 409, 288, 251, 260, 330])"
            ]
          },
          "metadata": {},
          "execution_count": 55
        }
      ]
    },
    {
      "cell_type": "code",
      "source": [
        "sum(arr < 100)"
      ],
      "metadata": {
        "colab": {
          "base_uri": "https://localhost:8080/"
        },
        "id": "W5mnOSXs1n7A",
        "outputId": "7627a88f-ebe5-4e5d-f770-d0ffedb1fc3d"
      },
      "execution_count": null,
      "outputs": [
        {
          "output_type": "execute_result",
          "data": {
            "text/plain": [
              "107"
            ]
          },
          "metadata": {},
          "execution_count": 5
        }
      ]
    },
    {
      "cell_type": "code",
      "source": [
        "arr[arr < 100]"
      ],
      "metadata": {
        "colab": {
          "base_uri": "https://localhost:8080/"
        },
        "id": "7ZRZ_ZMe1n37",
        "outputId": "c27e9051-1114-4237-fea2-ac93893aef07"
      },
      "execution_count": null,
      "outputs": [
        {
          "output_type": "execute_result",
          "data": {
            "text/plain": [
              "array([53, 78, 98,  1, 22, 42, 77, 84, 73,  5, 36, 70, 57, 31, 51, 81, 19,\n",
              "       15, 33, 96, 66, 67, 44, 40, 63, 55, 27, 36, 47, 48, 71, 67, 62, 60,\n",
              "       96, 34, 38,  2, 56, 11, 12, 24, 62, 28, 22, 40, 93, 98, 88, 92, 92,\n",
              "       91, 95, 48, 42, 62, 86, 71, 68, 43, 50, 10, 45,  8,  6, 89, 62, 39,\n",
              "       43, 88, 66, 30, 44, 14, 12, 30, 58, 94, 59, 56, 87, 15, 97, 41, 72,\n",
              "       60, 59,  5, 26, 63, 90, 39, 71, 84, 70,  9, 71, 17, 87, 12,  5, 53,\n",
              "       93, 65, 46, 34, 26])"
            ]
          },
          "metadata": {},
          "execution_count": 8
        }
      ]
    },
    {
      "cell_type": "code",
      "source": [
        "len(arr[arr < 100])"
      ],
      "metadata": {
        "colab": {
          "base_uri": "https://localhost:8080/"
        },
        "id": "RB8YTLuc1n1H",
        "outputId": "791b889f-5cbd-4cf0-f07c-86d9ff356824"
      },
      "execution_count": null,
      "outputs": [
        {
          "output_type": "execute_result",
          "data": {
            "text/plain": [
              "107"
            ]
          },
          "metadata": {},
          "execution_count": 9
        }
      ]
    },
    {
      "cell_type": "markdown",
      "source": [
        "### 2D array\n"
      ],
      "metadata": {
        "id": "qyRnpmsV2IhF"
      }
    },
    {
      "cell_type": "code",
      "source": [
        "ls = [[1,2,3],\n",
        "      [4,5,6],\n",
        "      [7,8,9]]\n",
        "ls"
      ],
      "metadata": {
        "colab": {
          "base_uri": "https://localhost:8080/"
        },
        "id": "8AsQhRIb2Grf",
        "outputId": "7edc1176-9400-40a3-b762-ace32aed244e"
      },
      "execution_count": null,
      "outputs": [
        {
          "output_type": "execute_result",
          "data": {
            "text/plain": [
              "[[1, 2, 3], [4, 5, 6], [7, 8, 9]]"
            ]
          },
          "metadata": {},
          "execution_count": 10
        }
      ]
    },
    {
      "cell_type": "code",
      "source": [
        "type(ls)"
      ],
      "metadata": {
        "colab": {
          "base_uri": "https://localhost:8080/"
        },
        "id": "fvd_dm_a1nya",
        "outputId": "9d1dd30c-c109-46a2-8c0e-dabda8e35ba8"
      },
      "execution_count": null,
      "outputs": [
        {
          "output_type": "execute_result",
          "data": {
            "text/plain": [
              "list"
            ]
          },
          "metadata": {},
          "execution_count": 11
        }
      ]
    },
    {
      "cell_type": "code",
      "source": [
        "arr2 = np.array(ls)\n",
        "arr2"
      ],
      "metadata": {
        "colab": {
          "base_uri": "https://localhost:8080/"
        },
        "id": "tOr7rU1i1nvZ",
        "outputId": "8444f3b9-4f4c-4b68-9062-359e8c73e207"
      },
      "execution_count": null,
      "outputs": [
        {
          "output_type": "execute_result",
          "data": {
            "text/plain": [
              "array([[1, 2, 3],\n",
              "       [4, 5, 6],\n",
              "       [7, 8, 9]])"
            ]
          },
          "metadata": {},
          "execution_count": 12
        }
      ]
    },
    {
      "cell_type": "code",
      "source": [
        "arr2.ndim"
      ],
      "metadata": {
        "colab": {
          "base_uri": "https://localhost:8080/"
        },
        "id": "6pGJh8Ra1nsk",
        "outputId": "d32082ab-155b-4e66-c560-b94eeea59e69"
      },
      "execution_count": null,
      "outputs": [
        {
          "output_type": "execute_result",
          "data": {
            "text/plain": [
              "2"
            ]
          },
          "metadata": {},
          "execution_count": 13
        }
      ]
    },
    {
      "cell_type": "code",
      "source": [
        "arr2.shape\n",
        "## 3 * 3\n",
        "# 3rows and 3 columns"
      ],
      "metadata": {
        "colab": {
          "base_uri": "https://localhost:8080/"
        },
        "id": "UT-h-b0o1npn",
        "outputId": "e278597e-cc9a-4f77-dda2-6887d828b483"
      },
      "execution_count": null,
      "outputs": [
        {
          "output_type": "execute_result",
          "data": {
            "text/plain": [
              "(3, 3)"
            ]
          },
          "metadata": {},
          "execution_count": 14
        }
      ]
    },
    {
      "cell_type": "code",
      "source": [
        "\n",
        "arr2"
      ],
      "metadata": {
        "colab": {
          "base_uri": "https://localhost:8080/"
        },
        "id": "FSIVzcdl4T3b",
        "outputId": "32f288d6-823a-4b55-b076-2cb572cd7067"
      },
      "execution_count": null,
      "outputs": [
        {
          "output_type": "execute_result",
          "data": {
            "text/plain": [
              "array([[1, 2, 3],\n",
              "       [4, 5, 6],\n",
              "       [7, 8, 9]])"
            ]
          },
          "metadata": {},
          "execution_count": 18
        }
      ]
    },
    {
      "cell_type": "code",
      "source": [
        "arr2[0]  # row"
      ],
      "metadata": {
        "colab": {
          "base_uri": "https://localhost:8080/"
        },
        "id": "Tsg9u_0K1nnL",
        "outputId": "3db6b909-34eb-4215-dd44-934b12f5e609"
      },
      "execution_count": null,
      "outputs": [
        {
          "output_type": "execute_result",
          "data": {
            "text/plain": [
              "array([1, 2, 3])"
            ]
          },
          "metadata": {},
          "execution_count": 16
        }
      ]
    },
    {
      "cell_type": "code",
      "source": [
        "arr2[2]   # row"
      ],
      "metadata": {
        "colab": {
          "base_uri": "https://localhost:8080/"
        },
        "id": "lkCULnwZ1nkm",
        "outputId": "3fe61451-1249-49ec-e604-55d8a2474375"
      },
      "execution_count": null,
      "outputs": [
        {
          "output_type": "execute_result",
          "data": {
            "text/plain": [
              "array([7, 8, 9])"
            ]
          },
          "metadata": {},
          "execution_count": 17
        }
      ]
    },
    {
      "cell_type": "code",
      "source": [
        "arr2[0:2]"
      ],
      "metadata": {
        "colab": {
          "base_uri": "https://localhost:8080/"
        },
        "id": "5Ze-0m5I1nfH",
        "outputId": "4b91bf1b-d35d-44b5-c6a5-596a594db699"
      },
      "execution_count": null,
      "outputs": [
        {
          "output_type": "execute_result",
          "data": {
            "text/plain": [
              "array([[1, 2, 3],\n",
              "       [4, 5, 6]])"
            ]
          },
          "metadata": {},
          "execution_count": 21
        }
      ]
    },
    {
      "cell_type": "code",
      "source": [
        "arr2[-1]"
      ],
      "metadata": {
        "colab": {
          "base_uri": "https://localhost:8080/"
        },
        "id": "QduidEOF1naI",
        "outputId": "23ef2bca-938a-409b-b8df-1229d943a50f"
      },
      "execution_count": null,
      "outputs": [
        {
          "output_type": "execute_result",
          "data": {
            "text/plain": [
              "array([7, 8, 9])"
            ]
          },
          "metadata": {},
          "execution_count": 22
        }
      ]
    },
    {
      "cell_type": "code",
      "source": [
        "arr2"
      ],
      "metadata": {
        "colab": {
          "base_uri": "https://localhost:8080/"
        },
        "id": "AGSW8Zdd1nXp",
        "outputId": "f02f1244-6f05-4c25-ab89-4c13a2715951"
      },
      "execution_count": null,
      "outputs": [
        {
          "output_type": "execute_result",
          "data": {
            "text/plain": [
              "array([[1, 2, 3],\n",
              "       [4, 5, 6],\n",
              "       [7, 8, 9]])"
            ]
          },
          "metadata": {},
          "execution_count": 23
        }
      ]
    },
    {
      "cell_type": "code",
      "source": [
        "arr2[1:3,1:3]"
      ],
      "metadata": {
        "colab": {
          "base_uri": "https://localhost:8080/"
        },
        "id": "nOw5RuuV1nUs",
        "outputId": "6c6fe39c-20ea-4115-803c-366556d669d7"
      },
      "execution_count": null,
      "outputs": [
        {
          "output_type": "execute_result",
          "data": {
            "text/plain": [
              "array([[5, 6],\n",
              "       [8, 9]])"
            ]
          },
          "metadata": {},
          "execution_count": 24
        }
      ]
    },
    {
      "cell_type": "code",
      "source": [
        "arr2[0:2,1:3]"
      ],
      "metadata": {
        "colab": {
          "base_uri": "https://localhost:8080/"
        },
        "id": "tITKzYcz1nQ6",
        "outputId": "7c1d655f-8125-4de5-91c0-1a0cca5e3f28"
      },
      "execution_count": null,
      "outputs": [
        {
          "output_type": "execute_result",
          "data": {
            "text/plain": [
              "array([[2, 3],\n",
              "       [5, 6]])"
            ]
          },
          "metadata": {},
          "execution_count": 25
        }
      ]
    },
    {
      "cell_type": "code",
      "source": [
        "arr2[1:3,0:2]"
      ],
      "metadata": {
        "colab": {
          "base_uri": "https://localhost:8080/"
        },
        "id": "GaOU53zX1nNo",
        "outputId": "cf460abf-f5b6-4918-e21b-8d913248b39a"
      },
      "execution_count": null,
      "outputs": [
        {
          "output_type": "execute_result",
          "data": {
            "text/plain": [
              "array([[4, 5],\n",
              "       [7, 8]])"
            ]
          },
          "metadata": {},
          "execution_count": 26
        }
      ]
    },
    {
      "cell_type": "code",
      "source": [
        "arr2"
      ],
      "metadata": {
        "colab": {
          "base_uri": "https://localhost:8080/"
        },
        "id": "oRq1hDht9V23",
        "outputId": "f72b5c7d-1b10-4fdc-c8ee-e5b8ff95beca"
      },
      "execution_count": null,
      "outputs": [
        {
          "output_type": "execute_result",
          "data": {
            "text/plain": [
              "array([[1, 2, 3],\n",
              "       [4, 5, 6],\n",
              "       [7, 8, 9]])"
            ]
          },
          "metadata": {},
          "execution_count": 27
        }
      ]
    },
    {
      "cell_type": "code",
      "source": [
        "arr2[-2:]"
      ],
      "metadata": {
        "colab": {
          "base_uri": "https://localhost:8080/"
        },
        "id": "ZMDdDdkF-A0O",
        "outputId": "5e9050c3-22f2-4f9d-9172-44481995dedb"
      },
      "execution_count": null,
      "outputs": [
        {
          "output_type": "execute_result",
          "data": {
            "text/plain": [
              "array([[4, 5, 6],\n",
              "       [7, 8, 9]])"
            ]
          },
          "metadata": {},
          "execution_count": 29
        }
      ]
    },
    {
      "cell_type": "code",
      "source": [
        "arr2[-2:,-3:]"
      ],
      "metadata": {
        "colab": {
          "base_uri": "https://localhost:8080/"
        },
        "id": "tnQDNY9295gs",
        "outputId": "454a4b48-08c3-495b-a7e2-845b86759fb4"
      },
      "execution_count": null,
      "outputs": [
        {
          "output_type": "execute_result",
          "data": {
            "text/plain": [
              "array([[4, 5, 6],\n",
              "       [7, 8, 9]])"
            ]
          },
          "metadata": {},
          "execution_count": 28
        }
      ]
    },
    {
      "cell_type": "code",
      "source": [
        "arr2"
      ],
      "metadata": {
        "colab": {
          "base_uri": "https://localhost:8080/"
        },
        "id": "YoEgatgf-byn",
        "outputId": "d6a08994-07ad-4337-96d5-dbd9da0b1b2f"
      },
      "execution_count": null,
      "outputs": [
        {
          "output_type": "execute_result",
          "data": {
            "text/plain": [
              "array([[1, 2, 3],\n",
              "       [4, 5, 6],\n",
              "       [7, 8, 9]])"
            ]
          },
          "metadata": {},
          "execution_count": 30
        }
      ]
    },
    {
      "cell_type": "code",
      "source": [
        "np.ones(10)"
      ],
      "metadata": {
        "colab": {
          "base_uri": "https://localhost:8080/"
        },
        "id": "Lal4JXHK-bvT",
        "outputId": "5719a1be-0493-460a-ed8b-b444d63a27cb"
      },
      "execution_count": null,
      "outputs": [
        {
          "output_type": "execute_result",
          "data": {
            "text/plain": [
              "array([1., 1., 1., 1., 1., 1., 1., 1., 1., 1.])"
            ]
          },
          "metadata": {},
          "execution_count": 31
        }
      ]
    },
    {
      "cell_type": "code",
      "source": [
        "np.zeros(10)"
      ],
      "metadata": {
        "colab": {
          "base_uri": "https://localhost:8080/"
        },
        "id": "ancdffOa-bso",
        "outputId": "e34d69f6-8b13-4baf-ac2f-14a12d2a766c"
      },
      "execution_count": null,
      "outputs": [
        {
          "output_type": "execute_result",
          "data": {
            "text/plain": [
              "array([0., 0., 0., 0., 0., 0., 0., 0., 0., 0.])"
            ]
          },
          "metadata": {},
          "execution_count": 32
        }
      ]
    },
    {
      "cell_type": "code",
      "source": [
        "np.linspace(1,50,10)"
      ],
      "metadata": {
        "colab": {
          "base_uri": "https://localhost:8080/"
        },
        "id": "zO9GMPK5-bp4",
        "outputId": "74703833-bce0-4099-a556-1c7a4acb0678"
      },
      "execution_count": null,
      "outputs": [
        {
          "output_type": "execute_result",
          "data": {
            "text/plain": [
              "array([ 1.        ,  6.44444444, 11.88888889, 17.33333333, 22.77777778,\n",
              "       28.22222222, 33.66666667, 39.11111111, 44.55555556, 50.        ])"
            ]
          },
          "metadata": {},
          "execution_count": 33
        }
      ]
    },
    {
      "cell_type": "code",
      "source": [
        "# 3D array\n",
        "ls = [[[1, 2, 3], [4, 5, 6],\n",
        "       [7, 8, 9]],[[1, 2, 3],\n",
        "      [4, 5, 6], [7, 8, 9]],\n",
        "       [[1, 2, 3], [4, 5, 6],\n",
        "        [7, 8, 9]],[[1, 2, 3],\n",
        "         [4, 5, 6], [7, 8, 9]]]\n",
        "ls"
      ],
      "metadata": {
        "colab": {
          "base_uri": "https://localhost:8080/"
        },
        "id": "Rgqm0Vv8-bmi",
        "outputId": "47eecff5-17b9-4320-fac4-66ec70ade742"
      },
      "execution_count": null,
      "outputs": [
        {
          "output_type": "execute_result",
          "data": {
            "text/plain": [
              "[[[1, 2, 3], [4, 5, 6], [7, 8, 9]],\n",
              " [[1, 2, 3], [4, 5, 6], [7, 8, 9]],\n",
              " [[1, 2, 3], [4, 5, 6], [7, 8, 9]],\n",
              " [[1, 2, 3], [4, 5, 6], [7, 8, 9]]]"
            ]
          },
          "metadata": {},
          "execution_count": 39
        }
      ]
    },
    {
      "cell_type": "code",
      "source": [
        "arr3 = np.array(ls)"
      ],
      "metadata": {
        "id": "2BaDPbfU-bjt"
      },
      "execution_count": null,
      "outputs": []
    },
    {
      "cell_type": "code",
      "source": [
        "arr3.ndim"
      ],
      "metadata": {
        "colab": {
          "base_uri": "https://localhost:8080/"
        },
        "id": "Y6THSTmP-bgb",
        "outputId": "cbab013b-a137-4539-d301-6d13738d3d81"
      },
      "execution_count": null,
      "outputs": [
        {
          "output_type": "execute_result",
          "data": {
            "text/plain": [
              "3"
            ]
          },
          "metadata": {},
          "execution_count": 43
        }
      ]
    },
    {
      "cell_type": "code",
      "source": [
        "arr3.shape"
      ],
      "metadata": {
        "colab": {
          "base_uri": "https://localhost:8080/"
        },
        "id": "6T37fWcbCh4E",
        "outputId": "f62c8afd-e138-4a5e-acd4-ef48ff475e5d"
      },
      "execution_count": null,
      "outputs": [
        {
          "output_type": "execute_result",
          "data": {
            "text/plain": [
              "(4, 3, 3)"
            ]
          },
          "metadata": {},
          "execution_count": 45
        }
      ]
    },
    {
      "cell_type": "code",
      "source": [
        "arr3"
      ],
      "metadata": {
        "colab": {
          "base_uri": "https://localhost:8080/"
        },
        "id": "RAWVcsclChz8",
        "outputId": "2048a124-ca3d-429a-dabd-d8d10b165a2e"
      },
      "execution_count": null,
      "outputs": [
        {
          "output_type": "execute_result",
          "data": {
            "text/plain": [
              "array([[[1, 2, 3],\n",
              "        [4, 5, 6],\n",
              "        [7, 8, 9]],\n",
              "\n",
              "       [[1, 2, 3],\n",
              "        [4, 5, 6],\n",
              "        [7, 8, 9]],\n",
              "\n",
              "       [[1, 2, 3],\n",
              "        [4, 5, 6],\n",
              "        [7, 8, 9]],\n",
              "\n",
              "       [[1, 2, 3],\n",
              "        [4, 5, 6],\n",
              "        [7, 8, 9]]])"
            ]
          },
          "metadata": {},
          "execution_count": 46
        }
      ]
    },
    {
      "cell_type": "code",
      "source": [
        "arr3[ :,1:3,1:3 ]"
      ],
      "metadata": {
        "colab": {
          "base_uri": "https://localhost:8080/"
        },
        "id": "jOOgMlqRChwl",
        "outputId": "c8b3392c-ed6c-43fc-cd1e-d84da73d62a1"
      },
      "execution_count": null,
      "outputs": [
        {
          "output_type": "execute_result",
          "data": {
            "text/plain": [
              "array([[[5, 6],\n",
              "        [8, 9]],\n",
              "\n",
              "       [[5, 6],\n",
              "        [8, 9]],\n",
              "\n",
              "       [[5, 6],\n",
              "        [8, 9]],\n",
              "\n",
              "       [[5, 6],\n",
              "        [8, 9]]])"
            ]
          },
          "metadata": {},
          "execution_count": 48
        }
      ]
    },
    {
      "cell_type": "code",
      "source": [
        "arr3.ravel()"
      ],
      "metadata": {
        "colab": {
          "base_uri": "https://localhost:8080/"
        },
        "id": "MiccXH0fChtL",
        "outputId": "0fbaea3b-abb3-445c-afc1-783e16218299"
      },
      "execution_count": null,
      "outputs": [
        {
          "output_type": "execute_result",
          "data": {
            "text/plain": [
              "array([1, 2, 3, 4, 5, 6, 7, 8, 9, 1, 2, 3, 4, 5, 6, 7, 8, 9, 1, 2, 3, 4,\n",
              "       5, 6, 7, 8, 9, 1, 2, 3, 4, 5, 6, 7, 8, 9])"
            ]
          },
          "metadata": {},
          "execution_count": 50
        }
      ]
    },
    {
      "cell_type": "code",
      "source": [
        "arr3.flatten()"
      ],
      "metadata": {
        "colab": {
          "base_uri": "https://localhost:8080/"
        },
        "id": "ffSOi6uCChjk",
        "outputId": "50871a3b-aa1a-4ae0-a3dc-b45cbd01c161"
      },
      "execution_count": null,
      "outputs": [
        {
          "output_type": "execute_result",
          "data": {
            "text/plain": [
              "array([1, 2, 3, 4, 5, 6, 7, 8, 9, 1, 2, 3, 4, 5, 6, 7, 8, 9, 1, 2, 3, 4,\n",
              "       5, 6, 7, 8, 9, 1, 2, 3, 4, 5, 6, 7, 8, 9])"
            ]
          },
          "metadata": {},
          "execution_count": 52
        }
      ]
    },
    {
      "cell_type": "code",
      "source": [
        "arr3.reshape(36,)"
      ],
      "metadata": {
        "colab": {
          "base_uri": "https://localhost:8080/"
        },
        "id": "aBdxEM-XKfdQ",
        "outputId": "c2d93056-1f4c-436c-ea4b-9253ee842603"
      },
      "execution_count": null,
      "outputs": [
        {
          "output_type": "execute_result",
          "data": {
            "text/plain": [
              "array([1, 2, 3, 4, 5, 6, 7, 8, 9, 1, 2, 3, 4, 5, 6, 7, 8, 9, 1, 2, 3, 4,\n",
              "       5, 6, 7, 8, 9, 1, 2, 3, 4, 5, 6, 7, 8, 9])"
            ]
          },
          "metadata": {},
          "execution_count": 54
        }
      ]
    },
    {
      "cell_type": "code",
      "source": [
        "# argmin()  # min()\n",
        "# argmax()  # max()\n",
        "\n",
        "# argsort()  # sort()"
      ],
      "metadata": {
        "id": "wJmnLaM3KvQR"
      },
      "execution_count": null,
      "outputs": []
    }
  ]
}