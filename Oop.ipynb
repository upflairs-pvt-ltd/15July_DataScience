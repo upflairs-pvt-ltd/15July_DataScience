{
 "cells": [
  {
   "cell_type": "markdown",
   "id": "fddfb7fd-51dc-47e2-b702-067fec7596c4",
   "metadata": {},
   "source": [
    "### object oriented programing "
   ]
  },
  {
   "cell_type": "code",
   "execution_count": 21,
   "id": "f7a6943c-3af7-433f-80c2-3fcfa5071681",
   "metadata": {},
   "outputs": [],
   "source": [
    "class Student:\n",
    "    # class properties \n",
    "    # class variables  \n",
    "    student_name = \"Rahul kumar\"\n",
    "    student_college = \"poornima institute\"\n",
    "    college_city = \"Jaipur\"  \n",
    "# to access the property of class, you will need an object \n",
    "\n",
    "# object or instance creation \n",
    "obj =  Student() "
   ]
  },
  {
   "cell_type": "code",
   "execution_count": 17,
   "id": "80a69d0d-6a99-4230-a772-3250808e00a5",
   "metadata": {},
   "outputs": [
    {
     "data": {
      "text/plain": [
       "'poornima institute'"
      ]
     },
     "execution_count": 17,
     "metadata": {},
     "output_type": "execute_result"
    }
   ],
   "source": [
    "Student.student_college"
   ]
  },
  {
   "cell_type": "code",
   "execution_count": 18,
   "id": "69acccc7-6472-49c2-8e51-2db6c8689b2c",
   "metadata": {},
   "outputs": [
    {
     "name": "stdout",
     "output_type": "stream",
     "text": [
      "Rahul kumar\n"
     ]
    }
   ],
   "source": [
    "print(obj.student_name )"
   ]
  },
  {
   "cell_type": "code",
   "execution_count": 19,
   "id": "e5cad8a9-7cf1-4d8e-b298-5c8b4dced174",
   "metadata": {},
   "outputs": [
    {
     "name": "stdout",
     "output_type": "stream",
     "text": [
      "poornima institute\n"
     ]
    }
   ],
   "source": [
    "print(obj.student_college)"
   ]
  },
  {
   "cell_type": "code",
   "execution_count": 20,
   "id": "e11888c4-baf9-4a07-beaa-8c41402037f4",
   "metadata": {},
   "outputs": [
    {
     "name": "stdout",
     "output_type": "stream",
     "text": [
      "Jaipur\n"
     ]
    }
   ],
   "source": [
    "print(obj.college_city)"
   ]
  },
  {
   "cell_type": "code",
   "execution_count": 36,
   "id": "a358c9cc-4999-4592-9eb3-030c4189a5f5",
   "metadata": {},
   "outputs": [],
   "source": [
    "class Student:\n",
    "    #class variables \n",
    "    student_name = \"Rohit kumar\"\n",
    "    student_college = \"Poornima\"\n",
    "\n",
    "# instance variables \n",
    "    def __init__(self):\n",
    "        self.student_roll_no = 25 \n",
    "        self.student_branch = 'CSE'\n",
    "        self.student_address = \"Vridavan mathura\" \n",
    "        print(\"constructor executed!\")"
   ]
  },
  {
   "cell_type": "code",
   "execution_count": 32,
   "id": "dcf5a249-0b30-4536-887a-94013047529d",
   "metadata": {},
   "outputs": [
    {
     "name": "stdout",
     "output_type": "stream",
     "text": [
      "constructor executed!\n"
     ]
    }
   ],
   "source": [
    "obj1 = Student()  # object "
   ]
  },
  {
   "cell_type": "code",
   "execution_count": 33,
   "id": "0b75048a-98f2-41b8-8d00-1cd257317825",
   "metadata": {},
   "outputs": [
    {
     "data": {
      "text/plain": [
       "'Rohit kumar'"
      ]
     },
     "execution_count": 33,
     "metadata": {},
     "output_type": "execute_result"
    }
   ],
   "source": [
    "obj1.student_name "
   ]
  },
  {
   "cell_type": "code",
   "execution_count": 34,
   "id": "e49848b6-4007-4200-906e-45a0edf81c04",
   "metadata": {},
   "outputs": [
    {
     "data": {
      "text/plain": [
       "25"
      ]
     },
     "execution_count": 34,
     "metadata": {},
     "output_type": "execute_result"
    }
   ],
   "source": [
    "obj1.student_roll_no"
   ]
  },
  {
   "cell_type": "code",
   "execution_count": 23,
   "id": "843411b2-6abc-44bc-97be-e9e8d854ff10",
   "metadata": {},
   "outputs": [
    {
     "data": {
      "text/plain": [
       "'Rohit kumar'"
      ]
     },
     "execution_count": 23,
     "metadata": {},
     "output_type": "execute_result"
    }
   ],
   "source": [
    "Student.student_name   # class variables "
   ]
  },
  {
   "cell_type": "code",
   "execution_count": 24,
   "id": "5138af18-0f75-4b0d-9e38-21bd08b181f7",
   "metadata": {},
   "outputs": [
    {
     "ename": "AttributeError",
     "evalue": "type object 'Student' has no attribute 'student_roll_no'",
     "output_type": "error",
     "traceback": [
      "\u001b[1;31m---------------------------------------------------------------------------\u001b[0m",
      "\u001b[1;31mAttributeError\u001b[0m                            Traceback (most recent call last)",
      "Cell \u001b[1;32mIn[24], line 1\u001b[0m\n\u001b[1;32m----> 1\u001b[0m \u001b[43mStudent\u001b[49m\u001b[38;5;241;43m.\u001b[39;49m\u001b[43mstudent_roll_no\u001b[49m\n",
      "\u001b[1;31mAttributeError\u001b[0m: type object 'Student' has no attribute 'student_roll_no'"
     ]
    }
   ],
   "source": [
    "Student.student_roll_no\n",
    "#AttributeError "
   ]
  },
  {
   "cell_type": "code",
   "execution_count": null,
   "id": "f60cf95d-53c6-4239-b72c-b67ae409f135",
   "metadata": {},
   "outputs": [],
   "source": []
  },
  {
   "cell_type": "code",
   "execution_count": 51,
   "id": "29e1fbda-818a-4a5d-9efd-94767dbf7315",
   "metadata": {},
   "outputs": [],
   "source": [
    "class Student:\n",
    "    #class variables \n",
    "    student_name = \"Rohit kumar\"\n",
    "    student_college = \"Poornima\"\n",
    "\n",
    "# instance variables \n",
    "    def __init__(self,roll_no,branch,address,marks_ls):\n",
    "        self.student_roll_no = roll_no\n",
    "        self.student_branch = branch\n",
    "        self.student_address = address\n",
    "        self.subject_marks = marks_ls\n",
    "        print(\"constructor executed!\")\n",
    "\n",
    "\n",
    "    # function  or method  \n",
    "    def marks_average_finder(self):\n",
    "        # block of code  \n",
    "        marks = self.subject_marks\n",
    "        total_sum = 0 \n",
    "        count = 0 \n",
    "        for mark in marks: \n",
    "            total_sum = total_sum + mark\n",
    "            count = count + 1\n",
    "\n",
    "        print(\"YOur average marks is : \",total_sum/count)\n",
    "    "
   ]
  },
  {
   "cell_type": "code",
   "execution_count": 52,
   "id": "125030b3-5363-4d4e-a8ef-481146496813",
   "metadata": {},
   "outputs": [
    {
     "name": "stdout",
     "output_type": "stream",
     "text": [
      "constructor executed!\n",
      "constructor executed!\n"
     ]
    }
   ],
   "source": [
    "Manshi = Student(roll_no=11,branch=\"CSE\",address=\"Vridavan mathura\",marks_ls=[25,41,35,31,37,39]) \n",
    "Sachin = Student(roll_no=12,branch=\"IT\",address='jaipur',marks_ls=[49,41,35,36,38,39])"
   ]
  },
  {
   "cell_type": "code",
   "execution_count": 53,
   "id": "667c439d-8417-4313-8aa3-5888ba4df3f2",
   "metadata": {},
   "outputs": [
    {
     "name": "stdout",
     "output_type": "stream",
     "text": [
      "YOur average marks is :  34.666666666666664\n"
     ]
    }
   ],
   "source": [
    "Manshi.marks_average_finder()"
   ]
  },
  {
   "cell_type": "code",
   "execution_count": 54,
   "id": "4421401c-f7ce-402a-8ede-e26b0b1c981a",
   "metadata": {},
   "outputs": [
    {
     "name": "stdout",
     "output_type": "stream",
     "text": [
      "YOur average marks is :  39.666666666666664\n"
     ]
    }
   ],
   "source": [
    "Sachin.marks_average_finder()\n"
   ]
  },
  {
   "cell_type": "code",
   "execution_count": null,
   "id": "b8164725-1404-4a9c-92eb-05afa9a849e4",
   "metadata": {},
   "outputs": [],
   "source": []
  },
  {
   "cell_type": "code",
   "execution_count": null,
   "id": "d44eec1d-5ed0-41a0-abbe-fba43c029dbd",
   "metadata": {},
   "outputs": [],
   "source": []
  },
  {
   "cell_type": "code",
   "execution_count": 50,
   "id": "43c99dff-c732-4f99-b468-e6fcd43e1419",
   "metadata": {},
   "outputs": [
    {
     "data": {
      "text/plain": [
       "[25, 41, 35, 31, 37, 39]"
      ]
     },
     "execution_count": 50,
     "metadata": {},
     "output_type": "execute_result"
    }
   ],
   "source": [
    "Manshi.subject_marks\n"
   ]
  },
  {
   "cell_type": "code",
   "execution_count": null,
   "id": "dd6a45da-b931-4290-ba1f-b59ca196a362",
   "metadata": {},
   "outputs": [],
   "source": []
  },
  {
   "cell_type": "code",
   "execution_count": null,
   "id": "4d8aea76-190b-42ed-846b-68bfc004d64b",
   "metadata": {},
   "outputs": [],
   "source": [
    "class Prectise: \n",
    "    def __init__(self): \n",
    "        self.random_number = [25,41,63,9,58,75,95,45,68,25,3,4,61,2]\n",
    "    # instance method \n",
    "    def target_finder(target): \n",
    "        pass "
   ]
  },
  {
   "cell_type": "code",
   "execution_count": null,
   "id": "f4bd54e5-77df-493a-aa3f-dfc5ceb6d8ec",
   "metadata": {},
   "outputs": [],
   "source": []
  },
  {
   "cell_type": "code",
   "execution_count": null,
   "id": "62971e88-5380-41c1-bed0-eab29cf79a28",
   "metadata": {},
   "outputs": [],
   "source": []
  },
  {
   "cell_type": "code",
   "execution_count": null,
   "id": "29aa5e9d-103a-4835-a58f-b44d2ba25865",
   "metadata": {},
   "outputs": [],
   "source": []
  },
  {
   "cell_type": "code",
   "execution_count": null,
   "id": "657725bb-3118-47a9-aeb8-6effdd700bc2",
   "metadata": {},
   "outputs": [],
   "source": []
  },
  {
   "cell_type": "code",
   "execution_count": null,
   "id": "e2a9d5fe-1db5-466a-81ec-4e5067824211",
   "metadata": {},
   "outputs": [],
   "source": []
  },
  {
   "cell_type": "code",
   "execution_count": null,
   "id": "3b0b96c1-b2f9-449f-87a0-811bb2b03ca7",
   "metadata": {},
   "outputs": [],
   "source": []
  }
 ],
 "metadata": {
  "kernelspec": {
   "display_name": "Python 3 (ipykernel)",
   "language": "python",
   "name": "python3"
  },
  "language_info": {
   "codemirror_mode": {
    "name": "ipython",
    "version": 3
   },
   "file_extension": ".py",
   "mimetype": "text/x-python",
   "name": "python",
   "nbconvert_exporter": "python",
   "pygments_lexer": "ipython3",
   "version": "3.11.5"
  }
 },
 "nbformat": 4,
 "nbformat_minor": 5
}
