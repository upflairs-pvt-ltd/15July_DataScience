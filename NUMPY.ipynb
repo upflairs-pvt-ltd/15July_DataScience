{
 "cells": [
  {
   "cell_type": "code",
   "execution_count": 1,
   "id": "ffc62fbf-76bf-4fb0-88ad-d92d9487ddf6",
   "metadata": {},
   "outputs": [],
   "source": [
    "import numpy as np "
   ]
  },
  {
   "cell_type": "code",
   "execution_count": 2,
   "id": "4da90c89-50e7-44d8-8c6f-15c56bf509b2",
   "metadata": {},
   "outputs": [
    {
     "data": {
      "text/plain": [
       "'2.0.1'"
      ]
     },
     "execution_count": 2,
     "metadata": {},
     "output_type": "execute_result"
    }
   ],
   "source": [
    "np.__version__"
   ]
  },
  {
   "cell_type": "code",
   "execution_count": 3,
   "id": "d777905f-73e4-4d7a-a6f9-aa57abaccb1d",
   "metadata": {},
   "outputs": [
    {
     "data": {
      "text/plain": [
       "array([25, 10, 20, 30, 40, 50, 60])"
      ]
     },
     "execution_count": 3,
     "metadata": {},
     "output_type": "execute_result"
    }
   ],
   "source": [
    "arr = np.array([25,10,20,30,40,50,60])\n",
    "arr "
   ]
  },
  {
   "cell_type": "code",
   "execution_count": 4,
   "id": "e15355d4-170c-4a1c-8dbf-1b2416817253",
   "metadata": {},
   "outputs": [
    {
     "data": {
      "text/plain": [
       "array([25, 10, 20, 30, 40, 50, 60])"
      ]
     },
     "execution_count": 4,
     "metadata": {},
     "output_type": "execute_result"
    }
   ],
   "source": [
    "ls = [25,10,20,30,40,50,60]\n",
    "arr = np.array(ls)\n",
    "arr "
   ]
  },
  {
   "cell_type": "code",
   "execution_count": 6,
   "id": "b1704662-12c5-47d8-878e-6e039f4c895e",
   "metadata": {},
   "outputs": [
    {
     "data": {
      "text/plain": [
       "numpy.ndarray"
      ]
     },
     "execution_count": 6,
     "metadata": {},
     "output_type": "execute_result"
    }
   ],
   "source": [
    "type(arr)"
   ]
  },
  {
   "cell_type": "code",
   "execution_count": 7,
   "id": "616dcf23-d3b6-48f9-92de-2efc9f289323",
   "metadata": {},
   "outputs": [
    {
     "data": {
      "text/plain": [
       "1"
      ]
     },
     "execution_count": 7,
     "metadata": {},
     "output_type": "execute_result"
    }
   ],
   "source": [
    "arr.ndim"
   ]
  },
  {
   "cell_type": "code",
   "execution_count": 8,
   "id": "f48ce5aa-2214-4597-9a9c-57aa2cb53a92",
   "metadata": {},
   "outputs": [
    {
     "data": {
      "text/plain": [
       "7"
      ]
     },
     "execution_count": 8,
     "metadata": {},
     "output_type": "execute_result"
    }
   ],
   "source": [
    "arr.size"
   ]
  },
  {
   "cell_type": "code",
   "execution_count": 9,
   "id": "e4df7587-a533-4e43-85f8-05971974426b",
   "metadata": {},
   "outputs": [
    {
     "data": {
      "text/plain": [
       "7"
      ]
     },
     "execution_count": 9,
     "metadata": {},
     "output_type": "execute_result"
    }
   ],
   "source": [
    "len(arr) "
   ]
  },
  {
   "cell_type": "code",
   "execution_count": 10,
   "id": "6f962366-05a0-42be-b6b5-42e49935d415",
   "metadata": {},
   "outputs": [
    {
     "data": {
      "text/plain": [
       "(7,)"
      ]
     },
     "execution_count": 10,
     "metadata": {},
     "output_type": "execute_result"
    }
   ],
   "source": [
    "arr.shape "
   ]
  },
  {
   "cell_type": "code",
   "execution_count": 12,
   "id": "874ccfba-fd51-49d5-a5de-84fc74a1fe96",
   "metadata": {},
   "outputs": [
    {
     "data": {
      "text/plain": [
       "array([25, 10, 20, 30, 40, 50, 60])"
      ]
     },
     "execution_count": 12,
     "metadata": {},
     "output_type": "execute_result"
    }
   ],
   "source": [
    "arr"
   ]
  },
  {
   "cell_type": "code",
   "execution_count": 11,
   "id": "af19460f-c4fa-4561-a0d9-fff604dda3e0",
   "metadata": {},
   "outputs": [
    {
     "data": {
      "text/plain": [
       "dtype('int64')"
      ]
     },
     "execution_count": 11,
     "metadata": {},
     "output_type": "execute_result"
    }
   ],
   "source": [
    "arr.dtype"
   ]
  },
  {
   "cell_type": "code",
   "execution_count": 17,
   "id": "a65fd027-613a-4323-91b2-2c1dd7992a56",
   "metadata": {},
   "outputs": [
    {
     "data": {
      "text/plain": [
       "array(['25', '10', '20', '30', '40', '50', '60', 'Hello'], dtype='<U21')"
      ]
     },
     "execution_count": 17,
     "metadata": {},
     "output_type": "execute_result"
    }
   ],
   "source": [
    "arr = np.array([25,10,20,30,40,50,60,'Hello'])\n",
    "arr "
   ]
  },
  {
   "cell_type": "code",
   "execution_count": 16,
   "id": "f26b6f9d-301c-412b-a3c3-88c0dd710a33",
   "metadata": {},
   "outputs": [
    {
     "data": {
      "text/plain": [
       "dtype('float64')"
      ]
     },
     "execution_count": 16,
     "metadata": {},
     "output_type": "execute_result"
    }
   ],
   "source": [
    "arr.dtype"
   ]
  },
  {
   "cell_type": "code",
   "execution_count": 19,
   "id": "a158e776-fad5-4769-a074-2ebcc474989d",
   "metadata": {},
   "outputs": [
    {
     "data": {
      "text/plain": [
       "array([25, 10, 20, 30, 40, 50, 60])"
      ]
     },
     "execution_count": 19,
     "metadata": {},
     "output_type": "execute_result"
    }
   ],
   "source": [
    "arr = np.array([25,10,20,30,40,50,60])\n",
    "arr "
   ]
  },
  {
   "cell_type": "code",
   "execution_count": 24,
   "id": "503ea879-4152-4af5-a8aa-12ec1809cfb1",
   "metadata": {},
   "outputs": [
    {
     "data": {
      "text/plain": [
       "array([60, 50, 40])"
      ]
     },
     "execution_count": 24,
     "metadata": {},
     "output_type": "execute_result"
    }
   ],
   "source": [
    "arr[-1: -4:-1]"
   ]
  },
  {
   "cell_type": "code",
   "execution_count": 28,
   "id": "37ea724b-6ecf-4920-9e1f-32d201a92ce4",
   "metadata": {},
   "outputs": [
    {
     "data": {
      "text/plain": [
       "array([30, 15, 25, 35, 45, 55, 65])"
      ]
     },
     "execution_count": 28,
     "metadata": {},
     "output_type": "execute_result"
    }
   ],
   "source": [
    "arr + 5 "
   ]
  },
  {
   "cell_type": "code",
   "execution_count": 29,
   "id": "3d946e1a-dc53-4c9c-9620-6586a58a5a24",
   "metadata": {},
   "outputs": [
    {
     "data": {
      "text/plain": [
       "array([250, 100, 200, 300, 400, 500, 600])"
      ]
     },
     "execution_count": 29,
     "metadata": {},
     "output_type": "execute_result"
    }
   ],
   "source": [
    "arr *  10 "
   ]
  },
  {
   "cell_type": "code",
   "execution_count": 30,
   "id": "5465c113-3fb9-45a7-b698-379c218a269d",
   "metadata": {},
   "outputs": [
    {
     "data": {
      "text/plain": [
       "array([ 5.,  2.,  4.,  6.,  8., 10., 12.])"
      ]
     },
     "execution_count": 30,
     "metadata": {},
     "output_type": "execute_result"
    }
   ],
   "source": [
    "arr / 5 "
   ]
  },
  {
   "cell_type": "code",
   "execution_count": 31,
   "id": "7418ff1c-e3a5-4222-9642-f37d8231217c",
   "metadata": {},
   "outputs": [
    {
     "data": {
      "text/plain": [
       "np.int64(10)"
      ]
     },
     "execution_count": 31,
     "metadata": {},
     "output_type": "execute_result"
    }
   ],
   "source": [
    "min(arr)"
   ]
  },
  {
   "cell_type": "code",
   "execution_count": 32,
   "id": "1b71affd-8651-4587-aff5-ae05ccf1fabd",
   "metadata": {},
   "outputs": [
    {
     "data": {
      "text/plain": [
       "np.int64(60)"
      ]
     },
     "execution_count": 32,
     "metadata": {},
     "output_type": "execute_result"
    }
   ],
   "source": [
    "max(arr)"
   ]
  },
  {
   "cell_type": "code",
   "execution_count": 34,
   "id": "1e0bb7cf-815d-46bb-999a-c1840ca7e8f5",
   "metadata": {},
   "outputs": [
    {
     "data": {
      "text/plain": [
       "np.int64(235)"
      ]
     },
     "execution_count": 34,
     "metadata": {},
     "output_type": "execute_result"
    }
   ],
   "source": [
    "sum(arr )"
   ]
  },
  {
   "cell_type": "code",
   "execution_count": 36,
   "id": "994a5f8c-ca5b-474f-9a26-3853f00119be",
   "metadata": {},
   "outputs": [
    {
     "data": {
      "text/plain": [
       "np.float64(33.57142857142857)"
      ]
     },
     "execution_count": 36,
     "metadata": {},
     "output_type": "execute_result"
    }
   ],
   "source": [
    "np.mean(arr)"
   ]
  },
  {
   "cell_type": "code",
   "execution_count": 37,
   "id": "1c63e9e2-2035-42a6-98bb-e340e7cfdf10",
   "metadata": {},
   "outputs": [
    {
     "data": {
      "text/plain": [
       "np.float64(30.0)"
      ]
     },
     "execution_count": 37,
     "metadata": {},
     "output_type": "execute_result"
    }
   ],
   "source": [
    "np.median(arr)"
   ]
  },
  {
   "cell_type": "code",
   "execution_count": null,
   "id": "e9fb9ed5-fcf5-4c35-896b-6920e005a744",
   "metadata": {},
   "outputs": [],
   "source": []
  },
  {
   "cell_type": "code",
   "execution_count": 38,
   "id": "8e3193ed-5202-4b83-91c9-f1cd8f4cbfac",
   "metadata": {},
   "outputs": [],
   "source": [
    "import random "
   ]
  },
  {
   "cell_type": "code",
   "execution_count": 62,
   "id": "738a94b9-6e1d-4724-a0de-009e663aca69",
   "metadata": {},
   "outputs": [
    {
     "data": {
      "text/plain": [
       "9"
      ]
     },
     "execution_count": 62,
     "metadata": {},
     "output_type": "execute_result"
    }
   ],
   "source": [
    "random.randint(1,9,)  #  1 to 9         \n"
   ]
  },
  {
   "cell_type": "code",
   "execution_count": 67,
   "id": "e4758822-51fa-430f-9516-d285f5c5b546",
   "metadata": {},
   "outputs": [
    {
     "data": {
      "text/plain": [
       "array([291, 396, 111,  87, 135, 132, 239, 169, 221, 162, 176, 290, 401,\n",
       "       219,   2, 347, 216, 218, 123, 364, 365, 403, 321, 213, 133, 225,\n",
       "       364, 296, 333, 409, 216, 227, 408, 315, 283, 212, 381,  38,  82,\n",
       "       277,   8, 246, 325, 369, 432, 365, 218, 272,  98, 101, 281,   7,\n",
       "       167, 414, 314, 191, 412,  84, 128, 386, 206, 182, 432, 212, 220,\n",
       "       420, 370, 364, 125, 341,  31, 173, 291,   5, 226, 138, 110, 360,\n",
       "       263, 311,   6, 268,  84, 122, 245, 155, 210, 402, 149, 325, 345,\n",
       "       436, 448, 131, 324, 318, 153, 393, 144, 429, 136, 175, 403, 121,\n",
       "       145, 102, 182,  24, 218, 284, 102, 410, 265, 174,  77, 151, 429,\n",
       "       159, 365, 124,  53, 283,  15, 328, 223, 309, 162, 286, 363, 238,\n",
       "       314, 100, 406,  33, 172,  61,  32, 337, 382,  36, 327, 144, 348,\n",
       "       229, 286, 448, 241, 175,   7, 219, 245, 143,   5,  26, 376, 258,\n",
       "       101, 403, 144, 284, 354, 416, 395, 344,  56, 374, 438, 402, 106,\n",
       "       138, 324, 182,  31, 348,  18, 332, 157, 417,  54,  15,  11, 123,\n",
       "       121, 147, 375, 112, 381,  20,  80, 367, 392, 245, 215, 350, 155,\n",
       "       220, 311, 202, 325,  74, 419, 403, 115, 124, 239,  37, 235,  44,\n",
       "       419, 406, 141,  39, 226, 384, 245, 439, 322, 195,  13, 358, 134,\n",
       "        69, 200, 230, 225,   3, 299, 100, 227, 324,  52, 228,  94,  38,\n",
       "       372, 224, 145, 317, 287, 199, 375,  95,  21, 210, 211, 317, 218,\n",
       "       384, 427, 168, 217, 205, 118, 116,  14,  87, 178,  69, 406, 314,\n",
       "       393,  87, 412, 273, 445, 156, 193,  15,  60, 294,  87,  24, 431,\n",
       "        94, 148, 365, 254,  97, 177,  31, 247, 265, 438, 342,  68, 175,\n",
       "       358, 274,  71, 231,  61, 326, 342, 105, 403, 205,  52,  97, 401,\n",
       "        38, 340,  89, 431, 271, 360, 194, 200, 287, 110, 292, 439, 262,\n",
       "       351, 237, 325, 389,  86,  45, 146,  51, 369,  94,  86, 247,  64,\n",
       "       342, 323, 274,  24, 353, 397, 146, 411,  77, 320, 261, 217,  56,\n",
       "       367, 224, 408, 101, 204, 401,  70, 339, 105, 172,  61, 374,   1,\n",
       "       199, 367, 261, 395,  95,  21, 143, 168, 311, 348, 189, 374, 396,\n",
       "       122, 395, 125, 110, 180,  14, 286,  78, 265,  39, 268, 212, 351,\n",
       "       182, 344, 386, 401, 255, 120, 289, 374,  73, 148, 338, 350, 127,\n",
       "       113, 122, 108, 239, 118, 176, 398,  86, 258,  74,   6, 117, 370,\n",
       "       220, 206,  46,  48, 383, 407, 360,  37, 117, 146, 390,  83,   5,\n",
       "       251, 286,   2, 167,  93, 221, 202, 273, 106, 352,  23, 358,  55,\n",
       "       192, 282, 271, 345, 390, 316, 341, 111, 147,  39,  67, 217,  54,\n",
       "       317, 158,  37, 131, 341, 397, 359, 329, 132,  99,  29, 221, 193,\n",
       "       187, 368, 112, 315, 382, 125, 424, 438, 177, 298, 234, 297, 201,\n",
       "       309, 318, 252, 182, 231, 218, 240, 108, 175, 401, 123, 124, 404,\n",
       "       179, 400, 154, 172, 419,  47, 186, 104, 411, 421,  82, 432,  40,\n",
       "        40,  97,  32,  84, 413, 414], dtype=int32)"
      ]
     },
     "execution_count": 67,
     "metadata": {},
     "output_type": "execute_result"
    }
   ],
   "source": [
    "arr = np.random.randint(1,450,500)\n",
    "arr"
   ]
  },
  {
   "cell_type": "code",
   "execution_count": 69,
   "id": "d61a2a0b-c777-43b4-b127-8c433715ffe3",
   "metadata": {},
   "outputs": [],
   "source": [
    "import random ,string"
   ]
  },
  {
   "cell_type": "code",
   "execution_count": 70,
   "id": "9b53dc0d-df1d-43ab-b39f-c3e840002e20",
   "metadata": {},
   "outputs": [
    {
     "data": {
      "text/plain": [
       "'!\"#$%&\\'()*+,-./:;<=>?@[\\\\]^_`{|}~'"
      ]
     },
     "execution_count": 70,
     "metadata": {},
     "output_type": "execute_result"
    }
   ],
   "source": [
    "string.punctuation"
   ]
  },
  {
   "cell_type": "code",
   "execution_count": 71,
   "id": "68377e36-2891-4c12-bca1-ac47e2108f3a",
   "metadata": {},
   "outputs": [
    {
     "data": {
      "text/plain": [
       "'0123456789'"
      ]
     },
     "execution_count": 71,
     "metadata": {},
     "output_type": "execute_result"
    }
   ],
   "source": [
    "string.digits"
   ]
  },
  {
   "cell_type": "code",
   "execution_count": 75,
   "id": "a6697d94-dceb-4636-a0c3-b37f6814f944",
   "metadata": {},
   "outputs": [],
   "source": [
    "alpha = string.ascii_letters  + string.digits"
   ]
  },
  {
   "cell_type": "code",
   "execution_count": 76,
   "id": "3396ad9f-5c0a-49e0-ab12-96a62c216cc1",
   "metadata": {},
   "outputs": [
    {
     "data": {
      "text/plain": [
       "['abcdefghijklmnopqrstuvwxyzABCDEFGHIJKLMNOPQRSTUVWXYZ0123456789']"
      ]
     },
     "execution_count": 76,
     "metadata": {},
     "output_type": "execute_result"
    }
   ],
   "source": [
    "random.choice()"
   ]
  },
  {
   "cell_type": "code",
   "execution_count": 77,
   "id": "72a6a861-cd42-4b46-97d4-6e2bd2f87632",
   "metadata": {},
   "outputs": [
    {
     "data": {
      "text/plain": [
       "array([243, 250,  20,  28, 377, 421, 235,  81, 230,  87,  85,  70, 153,\n",
       "        40, 357,  39, 220, 363, 187,  11, 153,  36, 107, 415, 287, 141,\n",
       "       255, 398, 344, 393, 122, 207, 152,  30, 179, 332, 448, 313, 192,\n",
       "       372, 120, 352, 312,  11, 288, 393, 188, 445, 187, 139, 386, 395,\n",
       "       439, 287, 270, 265, 138, 420, 217, 161,  25, 160, 186, 422,  92,\n",
       "       251,   4, 390, 330, 404, 262, 349, 130,  91, 442, 222, 399, 428,\n",
       "        56, 185,   7, 152, 172, 368,  46, 265, 107,  16, 340, 296, 271,\n",
       "       430,  75, 220, 411, 303,  26,   5, 149, 392, 278, 311, 121, 134,\n",
       "       425, 139,  55, 288, 350, 176, 341,  25, 198, 415, 263, 389, 274,\n",
       "       145, 362, 397, 347,   4, 226, 379,  62, 269, 383, 271, 408, 410,\n",
       "       123, 141, 412, 441, 294, 201, 308, 409,  84, 337, 352, 264, 180,\n",
       "       151,  44,  56,  32, 170, 395, 297,  71,  42, 367, 418, 227, 299,\n",
       "       145,  74, 102,  91, 295, 443, 101, 406,  24,  19, 447, 328, 404,\n",
       "       207,  90,  57, 199, 434, 331, 279, 165, 422, 189, 220, 115, 350,\n",
       "       430, 443, 334, 188, 378, 239, 270,  71, 224, 130, 136, 404, 109,\n",
       "       407, 425, 165, 423, 184, 241, 146,  59, 208, 151,  94, 422, 347,\n",
       "        68, 379, 418,   8,  95, 133, 224, 222,  99, 246,   7, 136, 177,\n",
       "        49, 182,  42, 302, 300,  42, 388, 313, 371, 155, 209, 297, 310,\n",
       "       203, 132,  48,  65,  93,  18, 159, 213, 138,  39,  61, 297, 376,\n",
       "       434,  75, 414, 445,  96, 167,  84, 138, 239, 353, 346, 207, 217,\n",
       "       386,  34, 306, 112,  16, 408, 381, 244,  37, 403, 291, 321, 385,\n",
       "       307,  72, 313, 299, 111,  56, 216,  86, 337,  69, 232, 396, 296,\n",
       "       149, 159, 290, 176, 267, 367, 295,  36, 394, 261, 197, 286, 225,\n",
       "       409, 171, 398, 233,  51, 301, 225, 255, 300, 308, 255,  49, 396,\n",
       "       168, 353,  25, 348, 440, 202, 449, 396, 247, 269, 358, 308, 119,\n",
       "        41, 266,  28, 219,  75,  81, 331, 323, 341, 169, 163, 105, 352,\n",
       "        15, 371, 145,  87, 228, 189,  50,  83, 115, 378, 253,  54, 424,\n",
       "       199, 387, 198, 136,  21, 263,  83, 160, 146, 371,  82, 420, 295,\n",
       "       301, 221,  18,  56,  52, 244, 284, 408, 241, 279,  23,  11, 204,\n",
       "       385, 284, 179, 434, 192, 212,  33, 271,  18,  83, 287, 354, 339,\n",
       "       365, 139, 211, 292, 229, 111, 350,  14, 196, 222, 419, 117,  98,\n",
       "        49, 351,  85,  59, 230, 411,  38,  51, 355, 264, 313,  83, 115,\n",
       "       320, 175, 415, 139,  94, 313, 366, 264, 343, 268, 200, 422, 194,\n",
       "       358, 238, 119, 403,   5, 282, 146, 431, 387, 348, 109, 283,  52,\n",
       "       222, 412, 389, 274, 437,   1, 402, 324,  29,  55, 292,  41,   2,\n",
       "       111,  13, 315,  47, 310,  50, 234, 307, 204, 320,  47, 258, 218,\n",
       "       448, 353,  28, 342,  47, 360, 173,  77,  86,  78, 442, 405, 249,\n",
       "       134, 345,  62,  84, 190, 230, 198,  31, 105, 316, 177, 281, 161,\n",
       "       224,  82,  43, 341, 181,  31], dtype=int32)"
      ]
     },
     "execution_count": 77,
     "metadata": {},
     "output_type": "execute_result"
    }
   ],
   "source": [
    "arr = np.random.randint(1,450,500)\n",
    "arr\n",
    "\n",
    "## try to calculate no of item that are less than 100   # try with differents \n",
    "## try to calculate no. of even count \n"
   ]
  }
 ],
 "metadata": {
  "kernelspec": {
   "display_name": "Python 3 (ipykernel)",
   "language": "python",
   "name": "python3"
  },
  "language_info": {
   "codemirror_mode": {
    "name": "ipython",
    "version": 3
   },
   "file_extension": ".py",
   "mimetype": "text/x-python",
   "name": "python",
   "nbconvert_exporter": "python",
   "pygments_lexer": "ipython3",
   "version": "3.11.5"
  }
 },
 "nbformat": 4,
 "nbformat_minor": 5
}
